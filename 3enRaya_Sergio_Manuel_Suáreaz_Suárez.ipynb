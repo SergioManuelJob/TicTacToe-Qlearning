{
  "nbformat": 4,
  "nbformat_minor": 0,
  "metadata": {
    "colab": {
      "provenance": [],
      "authorship_tag": "ABX9TyOSW9gSOKOQ5SaM0w8SelJS",
      "include_colab_link": true
    },
    "kernelspec": {
      "name": "python3",
      "display_name": "Python 3"
    },
    "language_info": {
      "name": "python"
    }
  },
  "cells": [
    {
      "cell_type": "markdown",
      "metadata": {
        "id": "view-in-github",
        "colab_type": "text"
      },
      "source": [
        "<a href=\"https://colab.research.google.com/github/SergioManuelJob/TicTacToe-Qlearning/blob/master/3enRaya_Sergio_Manuel_Su%C3%A1reaz_Su%C3%A1rez.ipynb\" target=\"_parent\"><img src=\"https://colab.research.google.com/assets/colab-badge.svg\" alt=\"Open In Colab\"/></a>"
      ]
    },
    {
      "cell_type": "code",
      "execution_count": null,
      "metadata": {
        "id": "7X3pzM77q33g"
      },
      "outputs": [],
      "source": [
        "import pandas as pd\n",
        "import numpy as np\n",
        "import matplotlib.pyplot as plt"
      ]
    },
    {
      "cell_type": "markdown",
      "source": [
        "### Creamos tabla de transiciones\n",
        "\n",
        "Nos ayudamos del metodo movimiento legal para quitarnos todos los estados ilegales."
      ],
      "metadata": {
        "id": "_sDsSG8-zwhi"
      }
    },
    {
      "cell_type": "code",
      "source": [
        "def movimientoLegal(array):\n",
        "\n",
        "  contBlancas = 0\n",
        "  contNegras = 0\n",
        "\n",
        "  # 1 para negras 2 para blancas\n",
        "  for i in range (0, 9, 1):\n",
        "    if array[i] == 1:\n",
        "      contNegras += 1\n",
        "    if array[i] == 2:\n",
        "      contBlancas += 1\n",
        "\n",
        "  if contBlancas > contNegras:\n",
        "    return False\n",
        "  elif contNegras >= contBlancas + 2:\n",
        "    return False\n",
        "  else:\n",
        "    return True"
      ],
      "metadata": {
        "id": "utLFG1Mf5oyg"
      },
      "execution_count": null,
      "outputs": []
    },
    {
      "cell_type": "code",
      "source": [
        "# Vamos a hacer la tabla\n",
        "estados = {}\n",
        "indice = 0\n",
        "for a in range (0, 3, 1):\n",
        "  for b in range (0, 3, 1):\n",
        "    for c in range (0, 3, 1):\n",
        "      for d in range (0, 3, 1):\n",
        "        for e in range (0, 3, 1):\n",
        "          for f in range (0, 3, 1):\n",
        "            for g in range (0, 3, 1):\n",
        "              for h in range (0, 3, 1):\n",
        "                for i in range (0, 3, 1):\n",
        "                  if (movimientoLegal([a, b, c, d, e, f, g, h, i])):\n",
        "                    estados[indice] =  a*6561 + b*2187 + c*729 + d*243 + e*81 + f*27 + g*9 + h*3 + i\n",
        "                    indice += 1"
      ],
      "metadata": {
        "id": "1OPQVp3zsdje"
      },
      "execution_count": null,
      "outputs": []
    },
    {
      "cell_type": "code",
      "source": [
        "estados_inverso = {valor: clave for clave, valor in estados.items()}"
      ],
      "metadata": {
        "id": "XFx_rRURuz7I"
      },
      "execution_count": null,
      "outputs": []
    },
    {
      "cell_type": "code",
      "source": [
        "def crearTransiciones(arrayEstados):\n",
        "    T = {}\n",
        "    indice = 0\n",
        "    for i in range(0,len(arrayEstados)):\n",
        "        numero = arrayEstados[i]\n",
        "        a, b, c, d, e, f, g, h, i = (numero // 6561) % 3, (numero // 2187) % 3, (numero // 729) % 3, (numero // 243) % 3, (numero // 81) % 3, (numero // 27) % 3, (numero // 9) % 3, (numero // 3) % 3, numero % 3\n",
        "        T[indice] = [a, b, c, d, e, f, g, h, i]\n",
        "        indice += 1\n",
        "    return T"
      ],
      "metadata": {
        "id": "sPYlHorjvl0o"
      },
      "execution_count": null,
      "outputs": []
    },
    {
      "cell_type": "code",
      "source": [
        "T = crearTransiciones(estados)"
      ],
      "metadata": {
        "id": "uk99xmRQxD4h"
      },
      "execution_count": null,
      "outputs": []
    },
    {
      "cell_type": "markdown",
      "source": [
        "### Creación de la tabla de recompensas\n",
        "\n",
        "Para eso creamos metodos que devuelven un booleano de si ganas o empatas"
      ],
      "metadata": {
        "id": "c3fEZTu9zixl"
      }
    },
    {
      "cell_type": "code",
      "source": [
        "def ganar(array, numJugador):\n",
        "    # Verificar filas\n",
        "    for i in range(0, 9, 3):\n",
        "        if array[i] == array[i+1] == array[i+2] and array[i] == numJugador:\n",
        "            return True\n",
        "\n",
        "    # Verificar columnas\n",
        "    for i in range(3):\n",
        "        if array[i] == array[i+3] == array[i+6] and array[i] == numJugador:\n",
        "            return True\n",
        "\n",
        "    # Verificar diagonales\n",
        "    if array[0] == array[4] == array[8] and array[0] == numJugador:\n",
        "        return True\n",
        "    if array[2] == array[4] == array[6] and array[2] == numJugador:\n",
        "        return True\n",
        "\n",
        "    return False"
      ],
      "metadata": {
        "id": "q80fYB9a6eZN"
      },
      "execution_count": null,
      "outputs": []
    },
    {
      "cell_type": "code",
      "source": [
        "def tableroLleno(array):\n",
        "  for i in array:\n",
        "    if i == 0:\n",
        "      return False\n",
        "  else:\n",
        "    return True"
      ],
      "metadata": {
        "id": "Z-1jUrylxNp0"
      },
      "execution_count": null,
      "outputs": []
    },
    {
      "cell_type": "code",
      "source": [
        "R = {}\n",
        "for i in T:\n",
        "  # 1 para negras 2 para blancas\n",
        "  if(ganar(T[i], 1)):\n",
        "    R[i] = 100\n",
        "  elif(ganar(T[i], 2)):\n",
        "    R[i] = -100\n",
        "  # elif(tableroLleno(T[i])):\n",
        "  #   R[i] = 10\n",
        "  else:\n",
        "    R[i] = 0"
      ],
      "metadata": {
        "id": "1ss906OAAHUS"
      },
      "execution_count": null,
      "outputs": []
    },
    {
      "cell_type": "markdown",
      "source": [
        "### Creamos tabla Q"
      ],
      "metadata": {
        "id": "4jCS4T6Cz6mw"
      }
    },
    {
      "cell_type": "code",
      "source": [
        "Q = np.zeros((6046, 9))"
      ],
      "metadata": {
        "id": "W6magTNODqjC"
      },
      "execution_count": null,
      "outputs": []
    },
    {
      "cell_type": "markdown",
      "source": [
        "### Entrenamos al agente de q-learning\n",
        "\n",
        "Y nos ayudamos del metodo `calcularNumeroModular` para representar el tablero de forma modular."
      ],
      "metadata": {
        "id": "kSEGp2-mz80N"
      }
    },
    {
      "cell_type": "code",
      "source": [
        "def calcularNumeroModular(array):\n",
        "  return array[0] * 6561 + array[1] * 2187 + array[2] * 729 + array[3] * 243 + array[4] * 81 + array[5] * 27 + array[6] * 9 + array[7] * 3 + array[8]"
      ],
      "metadata": {
        "id": "4hu9T7PfGJxa"
      },
      "execution_count": null,
      "outputs": []
    },
    {
      "cell_type": "code",
      "source": [
        "v = 0.1\n",
        "y = 0.9\n",
        "\n",
        "max_entrenamientos = 100000\n",
        "s = 0\n",
        "entrenar = 0\n",
        "\n",
        "while entrenar < max_entrenamientos:\n",
        "\n",
        "    a = np.random.randint(9)\n",
        "\n",
        "    while T[s][a] != 0:\n",
        "      a = np.random.randint(9)\n",
        "\n",
        "    # Se coloca la ficha\n",
        "    array = T[s].copy()\n",
        "    array[a] = 1\n",
        "    siguiente = calcularNumeroModular(array)\n",
        "    indiceSiguiente = estados_inverso[siguiente]\n",
        "\n",
        "    # Se cambia la tabla Q\n",
        "    Q[s, a] = (1 - v) * Q[s, a] + v * (R[s+1] + y * np.max(Q[indiceSiguiente, :]))\n",
        "\n",
        "    # Se actualiza el estado\n",
        "    s = indiceSiguiente\n",
        "\n",
        "    # Se comprueba si el juego ha terminado y se reinicia\n",
        "    if ganar(T[s], 1) or tableroLleno(T[s]):\n",
        "        s = 0\n",
        "\n",
        "    # Se comprueba que el jugador 2 nunca juegue primero para evitar casos ilegales\n",
        "    if entrenar < max_entrenamientos and s != 0:\n",
        "\n",
        "        a_player2 = np.random.randint(9)\n",
        "\n",
        "        while T[s][a_player2] != 0:\n",
        "          a_player2 = np.random.randint(9)\n",
        "\n",
        "        # Se coloca la ficha del jugador 2\n",
        "        array = T[s].copy()\n",
        "        array[a_player2] = 2\n",
        "        siguiente_player2 = calcularNumeroModular(array)\n",
        "        indiceSiguiente_player2 = estados_inverso[siguiente_player2]\n",
        "\n",
        "        # Se actualiza el estado para el jugador 2\n",
        "        s = indiceSiguiente_player2\n",
        "\n",
        "        # Se comprueba si el juego ha terminado para el jugador 2\n",
        "        if ganar(T[s], 2) or tableroLleno(T[s]):\n",
        "            s = 0\n",
        "\n",
        "\n",
        "    entrenar += 1"
      ],
      "metadata": {
        "id": "zmKc26ytZiYH"
      },
      "execution_count": null,
      "outputs": []
    },
    {
      "cell_type": "markdown",
      "source": [
        "### Revisión de la tabla Q para ver cómo ha entrenado."
      ],
      "metadata": {
        "id": "vw-CNyiW0Skc"
      }
    },
    {
      "cell_type": "code",
      "source": [
        "T[1]"
      ],
      "metadata": {
        "colab": {
          "base_uri": "https://localhost:8080/"
        },
        "id": "z9aZeSJU_Ul2",
        "outputId": "7c46eeb2-c8c9-4903-e691-1e6f8d87decd"
      },
      "execution_count": null,
      "outputs": [
        {
          "output_type": "execute_result",
          "data": {
            "text/plain": [
              "[0, 0, 0, 0, 0, 0, 0, 0, 1]"
            ]
          },
          "metadata": {},
          "execution_count": 188
        }
      ]
    },
    {
      "cell_type": "code",
      "source": [
        "def imprimir_matriz_q(Q):\n",
        "    for i, fila in enumerate(Q):\n",
        "        for j, valor in enumerate(fila):\n",
        "            print(f\"Q[{i}, {j}] = {valor:.2f}\")\n",
        "\n",
        "imprimir_matriz_q(Q)"
      ],
      "metadata": {
        "id": "0WnTiLQGwIgE"
      },
      "execution_count": null,
      "outputs": []
    },
    {
      "cell_type": "code",
      "source": [
        "np.argmax(Q[5966, :])"
      ],
      "metadata": {
        "colab": {
          "base_uri": "https://localhost:8080/"
        },
        "id": "pto1wtVPwoue",
        "outputId": "b912413b-16dc-4c63-b347-30ae0655e735"
      },
      "execution_count": null,
      "outputs": [
        {
          "output_type": "execute_result",
          "data": {
            "text/plain": [
              "6"
            ]
          },
          "metadata": {},
          "execution_count": 168
        }
      ]
    },
    {
      "cell_type": "markdown",
      "source": [
        "### Metodo para jugar contra un agente random"
      ],
      "metadata": {
        "id": "dhIGo5ZFoVKr"
      }
    },
    {
      "cell_type": "code",
      "source": [
        "max_entrenamientos = 1000\n",
        "victorias = 0\n",
        "empates = 0\n",
        "derrotas = 0\n",
        "\n",
        "for _ in range(max_entrenamientos):\n",
        "    s = 0\n",
        "    turno_agente = True\n",
        "\n",
        "    while True:\n",
        "        if turno_agente:\n",
        "            # Agente Q-learning\n",
        "            a = np.argmax(Q[s, :])\n",
        "        else:\n",
        "            # Agente aleatorio\n",
        "            a = np.random.randint(9)\n",
        "\n",
        "        while T[s][a] != 0:\n",
        "            if turno_agente:\n",
        "                a = np.random.randint(9)\n",
        "            else:\n",
        "                a = np.random.randint(9)\n",
        "\n",
        "        # Se coloca la ficha\n",
        "        array = T[s].copy()\n",
        "        array[a] = 1 if turno_agente else 2\n",
        "        siguiente = calcularNumeroModular(array)\n",
        "        indice_siguiente = estados_inverso[siguiente]\n",
        "\n",
        "        # Se actualiza el estado\n",
        "        s = indice_siguiente\n",
        "\n",
        "        # Se comprueba si el juego ha terminado y se actualizan las estadísticas\n",
        "        if ganar(T[s], 1) or ganar(T[s], 2) or tableroLleno(T[s]):\n",
        "            if ganar(T[s], 1):\n",
        "                victorias += 1\n",
        "            elif ganar(T[s], 2):\n",
        "                derrotas += 1\n",
        "            else:\n",
        "                empates += 1\n",
        "            turno_agente = True\n",
        "            s = 0\n",
        "            break\n",
        "\n",
        "        turno_agente = not turno_agente\n",
        "\n",
        "print(f\"Resultados después de {max_entrenamientos} partidas:\")\n",
        "print(f\"Victorias: {victorias}\")\n",
        "print(f\"Empates: {empates}\")\n",
        "print(f\"Derrotas: {derrotas}\")\n"
      ],
      "metadata": {
        "colab": {
          "base_uri": "https://localhost:8080/"
        },
        "id": "Ei1B1xtMoMvS",
        "outputId": "eee27d3a-d4bb-4667-dbf7-06455e247e6a"
      },
      "execution_count": null,
      "outputs": [
        {
          "output_type": "stream",
          "name": "stdout",
          "text": [
            "Resultados después de 1000 partidas:\n",
            "Victorias: 627\n",
            "Empates: 117\n",
            "Derrotas: 256\n"
          ]
        }
      ]
    },
    {
      "cell_type": "markdown",
      "source": [
        "### Jugar contra un agente experto\n",
        "\n",
        "Que es el movimiento optimo, hay varios ifs que controlan primero que no haya movimientos ganadores (para si el enemigo va a ganar impedirlo, y si él puede ganar, hacerlo), después de tomar el centro si no está tomado, y después una esquina o sino un lado."
      ],
      "metadata": {
        "id": "DE9EazJ_zVse"
      }
    },
    {
      "cell_type": "code",
      "source": [
        "def movimiento_optimo(tablero):\n",
        "    # Buscar movimientos ganadores o bloquear al oponente\n",
        "    arrayAux = tablero.copy()\n",
        "    for i in range(3):\n",
        "        for j in range(3):\n",
        "            if arrayAux[i * 3 + j] == 0:\n",
        "                arrayAux[i * 3 + j] = 2\n",
        "                if ganar(arrayAux, 2):\n",
        "                    return i * 3 + j\n",
        "                arrayAux[i * 3 + j] = 0\n",
        "\n",
        "    # Evitar perder en el siguiente movimiento del jugador\n",
        "    for i in range(3):\n",
        "        for j in range(3):\n",
        "            if arrayAux[i * 3 + j] == 0:\n",
        "                arrayAux[i * 3 + j] = 1\n",
        "                if ganar(arrayAux, 1):\n",
        "                    return i * 3 + j\n",
        "                arrayAux[i * 3 + j] = 0\n",
        "\n",
        "    # Si no hay movimientos ganadores, tomar el centro si está disponible\n",
        "    if arrayAux[4] == 0:\n",
        "        return 4\n",
        "\n",
        "    # Si no, tomar una esquina si está disponible\n",
        "    for pos in [0, 2, 6, 8]:\n",
        "        if arrayAux[pos] == 0:\n",
        "            return pos\n",
        "\n",
        "    # Si no, tomar un lado\n",
        "    for pos in [1, 3, 5, 7]:\n",
        "        if arrayAux[pos] == 0:\n",
        "            return pos"
      ],
      "metadata": {
        "id": "ZcZLG-iloKEt"
      },
      "execution_count": null,
      "outputs": []
    },
    {
      "cell_type": "markdown",
      "source": [
        "### Metodo de jugar contra el agente experto"
      ],
      "metadata": {
        "id": "LO2BVXvRBssH"
      }
    },
    {
      "cell_type": "code",
      "source": [
        "max_entrenamientos = 1000\n",
        "victorias = 0\n",
        "empates = 0\n",
        "derrotas = 0\n",
        "\n",
        "for _ in range(max_entrenamientos):\n",
        "    s = 0\n",
        "    turno_agente = True\n",
        "\n",
        "    while True:\n",
        "        if turno_agente:\n",
        "\n",
        "            a = np.argmax(Q[s, :])\n",
        "        else:\n",
        "            a = movimiento_optimo(T[s])\n",
        "\n",
        "        while T[s][a] != 0:\n",
        "            if turno_agente:\n",
        "                a = np.random.randint(9)\n",
        "            else:\n",
        "               a = movimiento_optimo(T[s])\n",
        "\n",
        "        # Se coloca la ficha\n",
        "        array = T[s].copy()\n",
        "        array[a] = 1 if turno_agente else 2\n",
        "        siguiente = calcularNumeroModular(array)\n",
        "        indice_siguiente = estados_inverso[siguiente]\n",
        "        # Se actualiza el estado\n",
        "        s = indice_siguiente\n",
        "\n",
        "        # Se comprueba si el juego ha terminado y se actualizan las estadísticas\n",
        "        if ganar(T[s], 1) or ganar(T[s], 2) or tableroLleno(T[s]):\n",
        "            if ganar(T[s], 1):\n",
        "                victorias += 1\n",
        "            elif ganar(T[s], 2):\n",
        "                derrotas += 1\n",
        "            else:\n",
        "                empates += 1\n",
        "            turno_agente = True\n",
        "            s = 0\n",
        "            break\n",
        "\n",
        "        turno_agente = not turno_agente\n",
        "\n",
        "print(f\"Resultados después de {max_entrenamientos} partidas:\")\n",
        "print(f\"Victorias: {victorias}\")\n",
        "print(f\"Empates: {empates}\")\n",
        "print(f\"Derrotas: {derrotas}\")"
      ],
      "metadata": {
        "colab": {
          "base_uri": "https://localhost:8080/"
        },
        "id": "moHIKxMwrAQW",
        "outputId": "d66f6fdb-cfb7-4ec0-c442-32119720f2bf"
      },
      "execution_count": null,
      "outputs": [
        {
          "output_type": "stream",
          "name": "stdout",
          "text": [
            "Resultados después de 1000 partidas:\n",
            "Victorias: 32\n",
            "Empates: 137\n",
            "Derrotas: 831\n"
          ]
        }
      ]
    }
  ]
}